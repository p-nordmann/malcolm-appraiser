{
 "cells": [
  {
   "cell_type": "markdown",
   "metadata": {},
   "source": [
    "# Example 0 - Working with a simple function\n",
    "\n",
    "In this notebook we will give an overview of the API provided by `malcolm-appraiser` through a simple example.\n",
    "\n",
    "The math necessary to follow this notebook is explained in [bayesian_inference.md](./bayesian_inference.md)."
   ]
  },
  {
   "cell_type": "markdown",
   "metadata": {},
   "source": [
    "## Forward model"
   ]
  },
  {
   "cell_type": "markdown",
   "metadata": {},
   "source": [
    "\n",
    "The forward model for this exemple is given by the function `f(x,y,z)` below:"
   ]
  },
  {
   "cell_type": "code",
   "execution_count": 1,
   "metadata": {},
   "outputs": [],
   "source": [
    "def f(x, y, z):\n",
    "    return x*y*z + 2*y*z - 3*x*z + 2"
   ]
  },
  {
   "cell_type": "markdown",
   "metadata": {},
   "source": [
    "We can evaluate `f` on a few points:"
   ]
  },
  {
   "cell_type": "code",
   "execution_count": 2,
   "metadata": {},
   "outputs": [
    {
     "name": "stdout",
     "output_type": "stream",
     "text": [
      "f(0, 0, 0) = 2\n",
      "f(3, 0, 3) = -25\n",
      "f(0, 3, 3) = 20\n"
     ]
    }
   ],
   "source": [
    "print(f\"f(0, 0, 0) = {f(0, 0, 0)}\")\n",
    "print(f\"f(3, 0, 3) = {f(3, 0, 3)}\")\n",
    "print(f\"f(0, 3, 3) = {f(0, 3, 3)}\")"
   ]
  },
  {
   "cell_type": "markdown",
   "metadata": {},
   "source": [
    "## Boundaries and observation"
   ]
  },
  {
   "cell_type": "markdown",
   "metadata": {},
   "source": [
    "We will assume that the parameters `x`, `y` and `z` are all comprised between `0` and `3`."
   ]
  },
  {
   "cell_type": "code",
   "execution_count": 3,
   "metadata": {},
   "outputs": [],
   "source": [
    "boundaries = [[0,3]]*3"
   ]
  },
  {
   "cell_type": "markdown",
   "metadata": {},
   "source": [
    "We made some measurements and got\n",
    "$f(x,y,z) + \\nu = 0$\n",
    "(see [bayesian_inference.md](./bayesian_inference.md) for reference)\n",
    "\n",
    "where $\\nu$ represents the noise of the observation.\n",
    "\n",
    "We assume this noise can be considered gaussian of mean $0$ and variance $4$."
   ]
  },
  {
   "cell_type": "markdown",
   "metadata": {},
   "source": [
    "The goal, for this example, is to evaluate how likely is `x` to be greater than `2`.\n",
    "\n",
    "Following [bayesian_inference.md](./bayesian_inference.md), we get the likelihood function: "
   ]
  },
  {
   "cell_type": "code",
   "execution_count": 4,
   "metadata": {},
   "outputs": [],
   "source": [
    "from math import exp\n",
    "\n",
    "def likelihood(x, y, z):\n",
    "    return exp(-(f(x, y, z)**2)/8)"
   ]
  },
  {
   "cell_type": "markdown",
   "metadata": {},
   "source": [
    "## Sampling and appraisal"
   ]
  },
  {
   "cell_type": "markdown",
   "metadata": {},
   "source": [
    "### Sampler setup"
   ]
  },
  {
   "cell_type": "markdown",
   "metadata": {},
   "source": [
    "\n",
    "`malcolm-appraiser` needs to communicate with a server that provides the `malcolm-sampler` gRPC service.\n",
    "\n",
    "Assuming that the server is up on `localhost` and listening on port `7352`, we provide this information to the appraiser with the following:"
   ]
  },
  {
   "cell_type": "code",
   "execution_count": 5,
   "metadata": {},
   "outputs": [],
   "source": [
    "import malcolm_appraiser as ma\n",
    "\n",
    "sampler = ma.MalcolmSampler(\"localhost:7352\")"
   ]
  },
  {
   "cell_type": "markdown",
   "metadata": {},
   "source": [
    "We then register the boundaries of the problem:"
   ]
  },
  {
   "cell_type": "code",
   "execution_count": 6,
   "metadata": {},
   "outputs": [],
   "source": [
    "sampler.set_boundaries(boundaries)"
   ]
  },
  {
   "cell_type": "markdown",
   "metadata": {},
   "source": [
    "### Posterior density"
   ]
  },
  {
   "cell_type": "markdown",
   "metadata": {},
   "source": [
    "In `malcolm-appraiser`, we approximate the posterior density with a set of points in parameters' space and posterior values.\n",
    "\n",
    "How to choose which points to measure from is arbitrary and should depend on the task at hand.\n",
    "Intuitively, we want the set of measurements to contain the most possible information about the actual posterior density.\n",
    "\n",
    "Here, we will sample uniformely at random and compute posterior values. This will be sufficient for the example."
   ]
  },
  {
   "cell_type": "code",
   "execution_count": 7,
   "metadata": {},
   "outputs": [
    {
     "name": "stdout",
     "output_type": "stream",
     "text": [
      "maximal posterior value: 1.0\n",
      "median posterior value:  0.13\n",
      "minimal posterior value: 0.0\n"
     ]
    }
   ],
   "source": [
    "from random import uniform\n",
    "from statistics import median\n",
    "\n",
    "N = 1_000\n",
    "\n",
    "points = []\n",
    "for _ in range(N):\n",
    "    points.append(\n",
    "        [\n",
    "            uniform(0, 3),\n",
    "            uniform(0, 3),\n",
    "            uniform(0, 3),\n",
    "        ]\n",
    "    )\n",
    "\n",
    "posterior_values = []\n",
    "for x, y, z in points:\n",
    "    posterior_values.append(likelihood(x, y, z))\n",
    "\n",
    "print(\"maximal posterior value:\", round(max(posterior_values), 2))\n",
    "print(\"median posterior value: \", round(median(posterior_values), 2))\n",
    "print(\"minimal posterior value:\", round(min(posterior_values), 2))"
   ]
  },
  {
   "cell_type": "markdown",
   "metadata": {},
   "source": [
    "Now we send the information to the sampler:"
   ]
  },
  {
   "cell_type": "code",
   "execution_count": 8,
   "metadata": {},
   "outputs": [],
   "source": [
    "sampler.set_posterior(points, posterior_values)"
   ]
  },
  {
   "cell_type": "markdown",
   "metadata": {},
   "source": [
    "### Appraisal"
   ]
  },
  {
   "cell_type": "markdown",
   "metadata": {},
   "source": [
    "Once the sampler is set, we can generate a set of points according to the posterior density we provided."
   ]
  },
  {
   "cell_type": "code",
   "execution_count": 9,
   "metadata": {},
   "outputs": [],
   "source": [
    "samples = sampler.make_samples(15_000)"
   ]
  },
  {
   "cell_type": "markdown",
   "metadata": {},
   "source": [
    "This set of points is used to compute expectations (i.e. averages).\n",
    "\n",
    "Here, we want to compute the average of the following `h(x,y,z)`:"
   ]
  },
  {
   "cell_type": "code",
   "execution_count": 10,
   "metadata": {},
   "outputs": [
    {
     "name": "stdout",
     "output_type": "stream",
     "text": [
      "P( x > 2 | f(x,y,z) + nu = 0) ~= 0.35\n"
     ]
    }
   ],
   "source": [
    "from statistics import mean\n",
    "\n",
    "def h(x, y, z):\n",
    "    return 1 if x > 2 else 0\n",
    "\n",
    "probability = mean(map(lambda sample: h(*sample), samples))\n",
    "\n",
    "print(f\"P( x > 2 | f(x,y,z) + nu = 0) ~= {round(probability, 2)}\")"
   ]
  }
 ],
 "metadata": {
  "kernelspec": {
   "display_name": "Python 3.10.7 64-bit",
   "language": "python",
   "name": "python3"
  },
  "language_info": {
   "codemirror_mode": {
    "name": "ipython",
    "version": 3
   },
   "file_extension": ".py",
   "mimetype": "text/x-python",
   "name": "python",
   "nbconvert_exporter": "python",
   "pygments_lexer": "ipython3",
   "version": "3.7.15"
  },
  "orig_nbformat": 4,
  "vscode": {
   "interpreter": {
    "hash": "949777d72b0d2535278d3dc13498b2535136f6dfe0678499012e853ee9abcab1"
   }
  }
 },
 "nbformat": 4,
 "nbformat_minor": 2
}
