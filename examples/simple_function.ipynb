{
 "cells": [
  {
   "cell_type": "code",
   "execution_count": null,
   "metadata": {},
   "outputs": [],
   "source": [
    "# TODO:\n",
    "# - use bold names for random variables in equations\n",
    "# - use densities instead of probability symbol\n",
    "# - write the Python API part\n",
    "\n",
    "# AND ALSO:\n",
    "# maybe remove the math from this notebook and write some standalone documentation for this part:\n",
    "# - one document about the bayesian inversion part\n",
    "# - one document about the approximation with staircase densities"
   ]
  },
  {
   "cell_type": "markdown",
   "metadata": {},
   "source": [
    "# Example 0 - Working with a simple function\n",
    "\n",
    "In this notebook we will give an overview of the API provided by `malcolm-appraiser` through a simple example."
   ]
  },
  {
   "cell_type": "code",
   "execution_count": null,
   "metadata": {},
   "outputs": [],
   "source": [
    "from typing import Final\n",
    "import malcolm_appraiser as ma"
   ]
  },
  {
   "cell_type": "markdown",
   "metadata": {},
   "source": [
    "## Forward model\n",
    "\n",
    "We are given a forward model in the form of the following function\n",
    "\n",
    "$$f(x,y,z) := xyz + 2yz - 3xz + 2$$"
   ]
  },
  {
   "cell_type": "code",
   "execution_count": null,
   "metadata": {},
   "outputs": [],
   "source": [
    "def f(x: float, y: float, z: float) -> float:\n",
    "    \"\"\"f is a simple mathematical function we wish to optimize\"\"\"\n",
    "    return x*y*z + 2*y*z - 3*x*z + 2\n",
    "\n",
    "print(f\"f(0, 0, 0) = {f(0, 0, 0)}\")\n",
    "print(f\"f(3, 0, 3) = {f(3, 0, 3)}\")\n",
    "print(f\"f(0, 3, 3) = {f(0, 3, 3)}\")"
   ]
  },
  {
   "cell_type": "markdown",
   "metadata": {},
   "source": [
    "## Problem's boundaries\n",
    "\n",
    "For this example, we will assume that $x$, $y$ and $z$ live in the cube $[0,3]^3$."
   ]
  },
  {
   "cell_type": "code",
   "execution_count": null,
   "metadata": {},
   "outputs": [],
   "source": [
    "boundaries: Final = [[0,3]]*3"
   ]
  },
  {
   "cell_type": "markdown",
   "metadata": {},
   "source": [
    "## Observations\n",
    "\n",
    "We now assume that we make an observation and want to explain it using the model $f$.\n",
    "\n",
    "We made some measurements and get the value $f(x,y,z)=0$.\n",
    "\n",
    "However, those measurements aren't exact. There is some noise due to the precision of the sensors we used and even some random quantities at play. Fortunately, we know that the noise can be considered gaussian of mean $0$ and variance $4$.\n",
    "\n",
    "Our observations sum-up the following way:\n",
    "\n",
    "$$f(x,y,z) + \\nu = 0$$\n",
    "$$\\nu \\sim \\mathcal{N}(0,\\,4)$$"
   ]
  },
  {
   "cell_type": "code",
   "execution_count": null,
   "metadata": {},
   "outputs": [],
   "source": [
    "from random import gauss\n",
    "\n",
    "sigma = 2\n",
    "\n",
    "def noisy_f(x: float, y: float, z: float) -> float:\n",
    "    \"\"\"noisy_f is f with added noise\"\"\"\n",
    "    noise = gauss(0, sigma)\n",
    "    return  f(x, y, z) + noise\n",
    "\n",
    "\n",
    "print(f\"f(0, 0, 0) ~ {noisy_f(0, 0, 0)}\")\n",
    "print(f\"f(3, 0, 3) ~ {noisy_f(3, 0, 3)}\")\n",
    "print(f\"f(0, 3, 3) ~ {noisy_f(0, 3, 3)}\")"
   ]
  },
  {
   "cell_type": "markdown",
   "metadata": {},
   "source": [
    "## Inversion problem\n",
    "\n",
    "Knowing the observation we made above, we want to know how likely the latent variable $x$ is to be greater than two, that is:\n",
    "\n",
    "$$\\mathbb{P}(x > 2 | f(x,y,z)+\\nu = 0)$$\n"
   ]
  },
  {
   "cell_type": "markdown",
   "metadata": {},
   "source": [
    "### Bayes formula\n",
    "\n",
    "Thanks to our asumption over the noise in the measurement above, we know that\n",
    "\n",
    "$$\\mathbb{P}(f(x,y,z)+\\nu=v | (x,y,z)=(x_0,y_0,z_0)) = \\exp{-\\frac{(v-f(x_0,y_0,z_0))^2}{8}}$$\n",
    "\n",
    "This is what we call the likelihood function (of $v$ knowing $x,y,z$), which we will write $l(x_0,y_0,z_y,v)$ below.\n",
    "\n",
    "We are interestind in the reverse, that is\n",
    "$\\mathbb{P}((x,y,z)=(x_0,y_0,z_0) | f(x,y,z)+\\nu=v)$, that we shall write $p(x_0,y_0,z_0,v)$ below (for posterior distribution).\n",
    "\n",
    "Bayes formula gives\n",
    "\n",
    "$$p(x_0,y_0,z_0,v) = \\frac{l(x_0,y_0,z_0,v)\\mathbb{P}((x,y,z)=(x_0,y_0,z_0))}{\\iiint_{x,y,z} l(x,y,z,v) \\,dx\\,dy\\,dz}$$\n",
    "\n",
    "\n",
    "### Bayesian inference\n",
    "\n",
    "It is not achievable to compute posterior values for every single $x_0,y_0,z_0$. What we do instead is computing expectations of functions of $x,y,z$.\n",
    "\n",
    "$$\\mathbb{E}(h(x,y,z)|f(x,y,z)+\\nu = v)$$\n",
    "\n",
    "For our problem above however, we are interested in a probability $\\mathbb{P}(x > 2 | f(x,y,z)+\\nu=0)$. To rewrite this as an expectation, we use the fact that for an event $A$,\n",
    "\n",
    "$$\\mathbb{E}(\\mathbb{1}_A) = \\mathbb{P}(A)$$\n",
    "where $\\mathbb{1}_A$ is the indicator function of $A$.\n",
    "\n",
    "We use $h(x,y,z) := \\mathbb{1}_{x > 2}$ and thus want to compute\n",
    "\n",
    "$$\\mathbb{E}(\\mathbb{1}_{x>2} | f(x,y,z)+\\nu=0) = \\mathbb{P}(x > 2 | f(x,y,z)+\\nu=0)$$\n",
    "\n",
    "\n",
    "### Back to practice\n",
    "\n",
    "For our practical case, we note that the Gibbs sampling method we use in this package is not sensitive to multiplicative constants. We only need to know that\n",
    "\n",
    "$$p(x_0,y_0,z_0,v) \\propto l(x_0,y_0,z_0,v)\\mathbb{P}((x,y,z)=(x_0,y_0,z_0))$$\n",
    "\n",
    "On top of that, we consider that we have no prior knowledge about $x,y,z$. Thus we take the uniform proability and $\\mathbb{P}((x,y,z)=(x_0,y_0,z_0))$ is a constant. We are left with\n",
    "\n",
    "$$p(x_0,y_0,z_0,v) \\propto l(x_0,y_0,z_0,v)$$\n",
    "\n",
    "We now want to compute an approximate value for\n",
    "\n",
    "$$\\mathbb{E}(\\mathbb{1}_{x > 2} | f(x,y,z)+\\nu=0) = \\iiint_{x,y,z} \\mathbb{1}_{x > 2} p(x,y,z,v) \\,dx\\,dy\\,dz$$\n",
    "\n",
    "We will use `malcolm-appraiser` to do that."
   ]
  },
  {
   "cell_type": "code",
   "execution_count": null,
   "metadata": {},
   "outputs": [],
   "source": [
    "# TODO"
   ]
  }
 ],
 "metadata": {
  "kernelspec": {
   "display_name": "Python 3.10.7 64-bit",
   "language": "python",
   "name": "python3"
  },
  "language_info": {
   "codemirror_mode": {
    "name": "ipython",
    "version": 3
   },
   "file_extension": ".py",
   "mimetype": "text/x-python",
   "name": "python",
   "nbconvert_exporter": "python",
   "pygments_lexer": "ipython3",
   "version": "3.10.7"
  },
  "orig_nbformat": 4,
  "vscode": {
   "interpreter": {
    "hash": "949777d72b0d2535278d3dc13498b2535136f6dfe0678499012e853ee9abcab1"
   }
  }
 },
 "nbformat": 4,
 "nbformat_minor": 2
}
