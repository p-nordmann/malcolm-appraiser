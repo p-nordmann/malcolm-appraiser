{
 "cells": [
  {
   "cell_type": "markdown",
   "metadata": {},
   "source": [
    "# Example 0 - Working with a simple function\n",
    "\n",
    "In this notebook we will give an overview of the API provided by `malcolm-appraiser` through a simple example.\n",
    "\n",
    "The math necessary to follow this notebook is explained in [bayesian_inference.md](./bayesian_inference.md)."
   ]
  },
  {
   "cell_type": "markdown",
   "metadata": {},
   "source": [
    "## Forward model\n",
    "\n",
    "We are given a forward model in the form of the following function\n",
    "\n",
    "$$f(x,y,z) := xyz + 2yz - 3xz + 2$$"
   ]
  },
  {
   "cell_type": "code",
   "execution_count": null,
   "metadata": {},
   "outputs": [],
   "source": [
    "def f(x, y, z):\n",
    "    return x*y*z + 2*y*z - 3*x*z + 2\n",
    "\n",
    "print(f\"f(0, 0, 0) = {f(0, 0, 0)}\")\n",
    "print(f\"f(3, 0, 3) = {f(3, 0, 3)}\")\n",
    "print(f\"f(0, 3, 3) = {f(0, 3, 3)}\")"
   ]
  },
  {
   "cell_type": "markdown",
   "metadata": {},
   "source": [
    "## Problem's boundaries\n",
    "\n",
    "For this example, we will assume that $x$, $y$ and $z$ live in the cube $[0,3]^3$."
   ]
  },
  {
   "cell_type": "code",
   "execution_count": null,
   "metadata": {},
   "outputs": [],
   "source": [
    "boundaries = [[0,3]]*3"
   ]
  },
  {
   "cell_type": "markdown",
   "metadata": {},
   "source": [
    "## Observations\n",
    "\n",
    "We now assume that we make an observation and want to explain it using the model $f$.\n",
    "\n",
    "We made some measurements and get the value $f(x,y,z)=0$.\n",
    "\n",
    "However, those measurements aren't exact. There is some noise due to the precision of the sensors we used and even some random quantities at play. Fortunately, we know that the noise can be considered gaussian of mean $0$ and variance $4$.\n",
    "\n",
    "Our observations sum-up the following way:\n",
    "\n",
    "$$f(x,y,z) + \\nu = 0$$\n",
    "$$\\nu \\sim \\mathcal{N}(0,\\,4)$$\n",
    "\n",
    "We want to know the probability of $x$ being greater than $2$."
   ]
  },
  {
   "cell_type": "code",
   "execution_count": null,
   "metadata": {},
   "outputs": [],
   "source": [
    "from random import gauss\n",
    "\n",
    "sigma = 2\n",
    "\n",
    "def noisy_f(x, y, z):\n",
    "    return  f(x, y, z) + gauss(0, sigma)\n",
    "\n",
    "\n",
    "print(f\"f(0, 0, 0) ~ {noisy_f(0, 0, 0)}\")\n",
    "print(f\"f(3, 0, 3) ~ {noisy_f(3, 0, 3)}\")\n",
    "print(f\"f(0, 3, 3) ~ {noisy_f(0, 3, 3)}\")"
   ]
  },
  {
   "cell_type": "markdown",
   "metadata": {},
   "source": [
    "## Sampler setup\n",
    "\n",
    "`malcolm-appraiser` needs to communicate with a server that provides the `malcolm-sampler` gRPC service.\n",
    "\n",
    "Assuming that the server is up on `localhost` and listening on port `7352`, we provide this information to the appraiser with the following."
   ]
  },
  {
   "cell_type": "code",
   "execution_count": null,
   "metadata": {},
   "outputs": [],
   "source": [
    "import malcolm_appraiser as ma\n",
    "\n",
    "sampler = ma.MalcolmSampler(\"localhost:7352\")"
   ]
  },
  {
   "cell_type": "markdown",
   "metadata": {},
   "source": [
    "We then need to register the boundaries of the problem."
   ]
  },
  {
   "cell_type": "code",
   "execution_count": null,
   "metadata": {},
   "outputs": [],
   "source": [
    "sampler.set_boundaries(boundaries)"
   ]
  },
  {
   "cell_type": "markdown",
   "metadata": {},
   "source": [
    "The next step is to send a description of the posterior density we want to sample from. In `malcolm-appraiser`, this takes the form of a list of points with density values.\n",
    "\n",
    "Indeed, the idea here is to approximate the actual posterior density by a staircase density.\n",
    "We only need to measure the posterior value on set of points.\n",
    "How to choose which points to measure from is arbitrary and should depend on the task at hand.\n",
    "Intuitively, we want the set of measurements to contain the most possible information about the actual posterior density.\n",
    "\n",
    "How to compute the posterior density values for this example is explained in [bayesian_inference.md](./bayesian_inference.md).\n",
    "\n",
    "Here, we will sample uniformely at random and compute posterior values. This will be sufficient for the example."
   ]
  },
  {
   "cell_type": "code",
   "execution_count": null,
   "metadata": {},
   "outputs": [],
   "source": [
    "from math import exp\n",
    "from random import uniform\n",
    "from statistics import median\n",
    "\n",
    "N = 1_000\n",
    "\n",
    "points = []\n",
    "for _ in range(N):\n",
    "    points.append(\n",
    "        [\n",
    "            uniform(0,3),\n",
    "            uniform(0,3),\n",
    "            uniform(0,3),\n",
    "        ]\n",
    "    )\n",
    "\n",
    "posterior_values = []\n",
    "for x, y, z in points:\n",
    "    posterior_values.append(exp(-(f(x, y, z)**2)/8))\n",
    "\n",
    "print(\"maximal posterior value:\", round(max(posterior_values), 2))\n",
    "print(\"median posterior value: \", round(median(posterior_values), 2))\n",
    "print(\"minimal posterior value:\", round(min(posterior_values), 2))"
   ]
  },
  {
   "cell_type": "markdown",
   "metadata": {},
   "source": [
    "Now we send the information to the sampler."
   ]
  },
  {
   "cell_type": "code",
   "execution_count": null,
   "metadata": {},
   "outputs": [],
   "source": [
    "sampler.set_posterior(points, posterior_values)"
   ]
  },
  {
   "cell_type": "markdown",
   "metadata": {},
   "source": [
    "## Sampling and appraisal\n",
    "\n",
    "Once our tools are set, we just need to sample and compute an average.\n",
    "\n",
    "For this example, we will compute average by hand."
   ]
  },
  {
   "cell_type": "code",
   "execution_count": null,
   "metadata": {},
   "outputs": [],
   "source": [
    "from statistics import mean\n",
    "\n",
    "def h(x, y, z):\n",
    "    return 1 if x > 2 else 0\n",
    "\n",
    "probability = mean(map(h, sampler.make_samples(30_000)))\n",
    "\n",
    "print(f\"P( x > 2 | f(x,y,z) + nu = 0) ~= {round(probability, 2)}\")"
   ]
  },
  {
   "cell_type": "markdown",
   "metadata": {},
   "source": [
    "# What comes next?\n",
    "\n",
    "Et voilà ! Our first example is over. :)\n",
    "\n",
    "Next, I invite you to have a look at the `malcolm-appraiser` reference, which is not that complicated but provide a little more configuration possibilities than what we used here.\n",
    "\n",
    "If you have more issues, I invite you to start a thread through the dedicated means so other users can relate."
   ]
  }
 ],
 "metadata": {
  "kernelspec": {
   "display_name": "Python 3.10.7 64-bit",
   "language": "python",
   "name": "python3"
  },
  "language_info": {
   "codemirror_mode": {
    "name": "ipython",
    "version": 3
   },
   "file_extension": ".py",
   "mimetype": "text/x-python",
   "name": "python",
   "nbconvert_exporter": "python",
   "pygments_lexer": "ipython3",
   "version": "3.10.7"
  },
  "orig_nbformat": 4,
  "vscode": {
   "interpreter": {
    "hash": "949777d72b0d2535278d3dc13498b2535136f6dfe0678499012e853ee9abcab1"
   }
  }
 },
 "nbformat": 4,
 "nbformat_minor": 2
}
